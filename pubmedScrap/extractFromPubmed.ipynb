{
 "cells": [
  {
   "cell_type": "code",
   "execution_count": 1,
   "metadata": {},
   "outputs": [],
   "source": [
    "import re"
   ]
  },
  {
   "cell_type": "code",
   "execution_count": 2,
   "metadata": {},
   "outputs": [],
   "source": [
    "def getEmails(text):\n",
    "   \n",
    "    match = re.findall(r'[\\w\\.-]+@[\\w\\.-]+', text)\n",
    "    return match\n",
    "\n",
    "def init_data():\n",
    "    data={}\n",
    "   \n",
    "    data['Author']={}\n",
    "    data['Journal']=''\n",
    "    return data\n",
    "    "
   ]
  },
  {
   "cell_type": "code",
   "execution_count": 3,
   "metadata": {
    "scrolled": true
   },
   "outputs": [],
   "source": [
    "f=open(\"pubmed_result.txt\",\"r\")\n",
    "\n",
    "data={}\n",
    "tauthor=''\n",
    "for l in f:\n",
    "    if (l[0:2]==\"TI\"):\n",
    "        title=\" \".join(l.split('-')[1:]).strip()\n",
    "        nextLine=f.readline()\n",
    "        if nextLine[0:3]==\"   \":\n",
    "            titleContd=nextLine.strip()\n",
    "            title=title+\" \"+titleContd\n",
    "        \n",
    "        if title not in data:\n",
    "            data[title]={}\n",
    "        data[title]=init_data()\n",
    "    if (l[0:3]==\"FAU\"):\n",
    "        author=l.split('-')[1].strip()\n",
    "        tauthor=author\n",
    "    \n",
    "\n",
    "    r=getEmails(l)\n",
    "    if len(r)!=0:\n",
    "        email=r[0]\n",
    "        if email not in data[title]:\n",
    "            data[title]['Author'][email]=tauthor\n",
    "      \n",
    "    if l[0:2]==\"JT\":\n",
    "        journal=l.split('-')[1].strip()\n",
    "        data[title]['Journal']=journal\n",
    "        "
   ]
  },
  {
   "cell_type": "code",
   "execution_count": 4,
   "metadata": {},
   "outputs": [],
   "source": [
    "f=open(\"details_v3.csv\",\"w\")\n",
    "l=[\"Email\",\"Author\",\"Title\",\"Jounral\"]\n",
    "f.write(\"|#|\".join(l)+\"\\n\")\n",
    "for title in data:\n",
    "    for email in data[title]['Author']:\n",
    "        author=data[title]['Author'][email]\n",
    "        author=author.replace(\",\",\" \")\n",
    "        journal=data[title]['Journal']\n",
    "        \n",
    "        l=[email,author,title,journal]\n",
    "        f.write(\"|#|\".join(l)+\"\\n\")\n",
    "f.close()\n",
    "        "
   ]
  },
  {
   "cell_type": "code",
   "execution_count": null,
   "metadata": {},
   "outputs": [],
   "source": []
  }
 ],
 "metadata": {
  "kernelspec": {
   "display_name": "Python 3",
   "language": "python",
   "name": "python3"
  },
  "language_info": {
   "codemirror_mode": {
    "name": "ipython",
    "version": 3
   },
   "file_extension": ".py",
   "mimetype": "text/x-python",
   "name": "python",
   "nbconvert_exporter": "python",
   "pygments_lexer": "ipython3",
   "version": "3.6.3"
  }
 },
 "nbformat": 4,
 "nbformat_minor": 2
}
